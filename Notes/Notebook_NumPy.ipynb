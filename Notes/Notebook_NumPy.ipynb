{
 "cells": [
  {
   "cell_type": "markdown",
   "metadata": {},
   "source": [
    "# NumPy\n",
    "- allows easy and efficient numeric computation\n",
    "- many other data science libraries are built on top of it\n",
    "\n",
    "Documentation: https://docs.scipy.org/doc/numpy/user/\n",
    "\n",
    "NumPy basically offers an array object, some statistics stuff, and linear algebra operations\n",
    "#### Key things about NumPy:\n",
    "- numpy arrays have fixed size at creation. changing the size of an array will create a new array and delete the old one\n",
    "- elements in array have to be of the same data type\n",
    "- initial index of array is [0]\n",
    "- unlike matlab, have to use special versions of functions when doing lin alg operations on matricies\n",
    "- arrays pass by reference\n",
    "- in the array type, ```*``` means elementwise, ```@``` means matrix style\n",
    "\n",
    "\n",
    "#### Broadcasting\n",
    "- matching the size/\"shape\" of an array when doing lin alg operations\n",
    "\n",
    "## Quickstart Tutorial\n",
    "[Tutorial Link](https://docs.scipy.org/doc/numpy/user/quickstart.html)\n",
    "a table of elements (usually numbers), all of the same type, indexed by a tuple of positive integers. In NumPy dimensions are called axes\n",
    "\n",
    "To convert 1D to 2D: ```B = np.reshape(A, (-1, 2))```\n",
    "\n",
    "### Histogram\n",
    "A histogram is a representation of the distribution of numerical data. A plot that lets you discover, and show, the underlying frequency distribution (shape) of a set of continuous data.\n",
    "\n",
    "Continous data means any value inside the range could exist, not just fixed values.\n",
    "\n",
    "To construct a histogram from a continuous variable you first need to split the data into intervals, called bins.\n",
    "Each bin contains the number of occurrences of scores in the data set that are contained within that bin.\n",
    "\n",
    "In a histogram, it is the area of the bar that indicates the frequency of occurrences for each bin. This means that the height of the bar does not necessarily indicate how many occurrences of scores there were within each individual bin. It is the product of height multiplied by the width of the bin that indicates the frequency of occurrences within that bin\n",
    "\n",
    "```histogram``` function in numpy is similar to matplotlib's ```hist```\n",
    "\n",
    "Good source about histograms [here](https://statistics.laerd.com/statistical-guides/understanding-histograms.php)\n",
    "\n"
   ]
  }
 ],
 "metadata": {
  "kernelspec": {
   "display_name": "Python 3",
   "language": "python",
   "name": "python3"
  },
  "language_info": {
   "codemirror_mode": {
    "name": "ipython",
    "version": 3
   },
   "file_extension": ".py",
   "mimetype": "text/x-python",
   "name": "python",
   "nbconvert_exporter": "python",
   "pygments_lexer": "ipython3",
   "version": "3.6.8"
  }
 },
 "nbformat": 4,
 "nbformat_minor": 2
}
