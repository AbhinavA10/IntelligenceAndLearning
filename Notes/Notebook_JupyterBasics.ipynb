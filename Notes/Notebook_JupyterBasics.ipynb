{
 "cells": [
  {
   "cell_type": "markdown",
   "metadata": {},
   "source": [
    "# Jupyter Notebook\n",
    "\n",
    "Open jupyter in cmd line with\n",
    "```jupyter notebook```\n",
    "\n",
    "A kernal is a the \"computational engine\"\n",
    "To reset (and have variables reset):\n",
    "```click on the menu Kernel -> Restart.``` This can be useful to start over a computation from scratch (e.g. variables are deleted, open files are closed, etc…).\n",
    "\n",
    "You can run the notebook document step-by-step (one cell a time) by pressing ```shift + enter.```\n",
    "\n",
    "You can run the whole notebook in a single step by ```clicking on the menu Cell -> Run All.```\n",
    "    \n",
    "To shutdown:\n",
    "```go to the notebook dashboard and press shutdown on the notebook```\n",
    "\n",
    "To shutdown the jupyter notebook app:\n",
    "```close the terminal```"
   ]
  },
  {
   "cell_type": "markdown",
   "metadata": {},
   "source": [
    "Good basics Link: \n",
    "- https://nbviewer.jupyter.org/github/jupyter/notebook/blob/master/docs/source/examples/Notebook/Notebook%20Basics.ipynb\n",
    "- https://www.codecademy.com/articles/how-to-use-jupyter-notebooks"
   ]
  },
  {
   "cell_type": "code",
   "execution_count": null,
   "metadata": {},
   "outputs": [],
   "source": []
  }
 ],
 "metadata": {
  "kernelspec": {
   "display_name": "Python 3",
   "language": "python",
   "name": "python3"
  },
  "language_info": {
   "codemirror_mode": {
    "name": "ipython",
    "version": 3
   },
   "file_extension": ".py",
   "mimetype": "text/x-python",
   "name": "python",
   "nbconvert_exporter": "python",
   "pygments_lexer": "ipython3",
   "version": "3.6.8"
  }
 },
 "nbformat": 4,
 "nbformat_minor": 2
}
