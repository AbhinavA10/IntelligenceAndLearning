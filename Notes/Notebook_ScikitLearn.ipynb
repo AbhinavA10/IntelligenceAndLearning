{
 "cells": [
  {
   "cell_type": "markdown",
   "metadata": {},
   "source": [
    "# Scikit-learn\n",
    "- a high-level machine learning library for Python, that has well known algorithims built-in\n",
    "\n",
    "Tutorial Source:https://scikit-learn.org/stable/tutorial/index.html\n",
    "\n",
    "Use: a learning problem considers a set of n samples of data and then tries to predict properties of unknown data. If each sample is more than a single number and, for instance, a multi-dimensional entry (aka multivariate data), it is said to have several attributes or features\n",
    "\n",
    "### Learning Problem Categories:\n",
    "#### Supervised:\n",
    "##### Classification\n",
    "- a discrete (as opposed to continuous) form of supervised learning where one has a limited number of categories\n",
    "- Ex: digit recognition\n",
    "\n",
    "##### Regression\n",
    "- used when data is continous. Ex: prediction of length of lizard based on its age and weight\n",
    "\n",
    "#### Unsupervised:\n",
    "- goal in such problems may be to discover groups of similar examples within the data: clustering,\n",
    "- or to determine the distribution of data within the input space, known as density estimation\n",
    "- or to project the data from a high-dimensional space down to two or three dimensions for the purpose of visualization \n",
    "\n",
    "### Training and Testing Set\n",
    "- the training set, on which we learn some properties; we call the other set the testing set, on which we test the learned properties.\n",
    "\n",
    "```sklearn.datasets``` has built-in datasets described [here](https://scikit-learn.org/stable/datasets/index.html#datasets)\n",
    "To load a dataset:"
   ]
  },
  {
   "cell_type": "code",
   "execution_count": 3,
   "metadata": {},
   "outputs": [],
   "source": [
    "import sklearn\n",
    "from sklearn import datasets\n",
    "iris = datasets.load_iris()\n",
    "digits = datasets.load_digits()"
   ]
  },
  {
   "cell_type": "markdown",
   "metadata": {},
   "source": [
    "```digits.data``` gives access to the features that can be used to classify the digits samples\n",
    "\n",
    "```digits.target``` gives the ground truth for the digit dataset, that is the number corresponding to each digit image that we are trying to learn\n",
    "\n",
    "### Learning and Predicting\n",
    "For now, consider estimator as a black box.\n",
    "\n",
    "From wiki, (in stats) an estimator is a rule for calculating an estimate of a given quantity based on observed data: thus the rule (the estimator), the quantity of interest (the estimand) and its result (the estimate) are distinguished.\n",
    "\n",
    "we fit an estimator on each of the 10 possible cases to be able to predict the classes to which unseen samples belong\n",
    "\n",
    "### Saving a model\n",
    "- aka persistance model: pickle, or joblib"
   ]
  },
  {
   "cell_type": "markdown",
   "metadata": {},
   "source": [
    "## Sources\n",
    "- https://scikit-learn.org/stable/tutorial/basic/tutorial.html\n",
    "- https://scikit-learn.org/stable/tutorial/index.html\n",
    "- Loading external datasets: https://scikit-learn.org/stable/datasets/index.html#external-datasets\n",
    "- Working with text data: https://scikit-learn.org/stable/tutorial/text_analytics/working_with_text_data.html"
   ]
  }
 ],
 "metadata": {
  "kernelspec": {
   "display_name": "Python 3",
   "language": "python",
   "name": "python3"
  },
  "language_info": {
   "codemirror_mode": {
    "name": "ipython",
    "version": 3
   },
   "file_extension": ".py",
   "mimetype": "text/x-python",
   "name": "python",
   "nbconvert_exporter": "python",
   "pygments_lexer": "ipython3",
   "version": "3.6.8"
  }
 },
 "nbformat": 4,
 "nbformat_minor": 2
}
